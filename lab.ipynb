{
 "cells": [
  {
   "cell_type": "code",
   "execution_count": 88,
   "metadata": {},
   "outputs": [],
   "source": [
    "import doctest\n",
    "import csv\n",
    "import re\n",
    "import numpy as np\n",
    "import collections\n",
    "\n",
    "from math import gcd\n",
    "from itertools import repeat\n",
    "from functools import reduce"
   ]
  },
  {
   "cell_type": "code",
   "execution_count": 89,
   "metadata": {},
   "outputs": [
    {
     "data": {
      "text/plain": [
       "{'a': 0.08167,\n",
       " 'b': 0.01492,\n",
       " 'c': 0.02782,\n",
       " 'd': 0.04253,\n",
       " 'e': 0.12702,\n",
       " 'f': 0.0228,\n",
       " 'g': 0.02015,\n",
       " 'h': 0.06094,\n",
       " 'i': 0.06966,\n",
       " 'j': 0.00153,\n",
       " 'k': 0.00772,\n",
       " 'l': 0.04025,\n",
       " 'm': 0.02406,\n",
       " 'n': 0.06749,\n",
       " 'o': 0.07507,\n",
       " 'p': 0.01929,\n",
       " 'q': 0.00095,\n",
       " 'r': 0.05987,\n",
       " 's': 0.06327,\n",
       " 't': 0.09056,\n",
       " 'u': 0.02758,\n",
       " 'v': 0.00978,\n",
       " 'w': 0.0236,\n",
       " 'x': 0.0015,\n",
       " 'y': 0.01974,\n",
       " 'z': 0.00074}"
      ]
     },
     "execution_count": 89,
     "metadata": {},
     "output_type": "execute_result"
    }
   ],
   "source": [
    "with open('eng.csv') as eng_f:\n",
    "    eng_freq = {k.lower(): float(v) for k, v in csv.reader(eng_f)}\n",
    "eng_freq"
   ]
  },
  {
   "cell_type": "markdown",
   "metadata": {},
   "source": [
    "## Vigenere Cipher"
   ]
  },
  {
   "cell_type": "code",
   "execution_count": 90,
   "metadata": {},
   "outputs": [],
   "source": [
    "def generate_key(initial_str: str, key_word: str):\n",
    "    \"\"\"\n",
    "    Generate the key in a cyclic manner\n",
    "    until it's length isn't equal to the length of original text\n",
    "\n",
    "    >>> generate_key('CRYPTOGRAPHYANDDATASECURITY', 'MOUSE')\n",
    "    'MOUSEMOUSEMOUSEMOUSEMOUSEMO'\n",
    "    \"\"\"\n",
    "    key_word_len = len(key_word)\n",
    "    initial_string_len = len(initial_str)\n",
    "\n",
    "    generated_list = list(repeat(key_word, initial_string_len // key_word_len + 1))\n",
    "\n",
    "    return \"\".join(generated_list)[:initial_string_len]\n",
    "\n",
    "\n",
    "def encrypt(initial_str, key_str):\n",
    "    \"\"\"\n",
    "    Return the encrypted text generated with the help of the key\n",
    "\n",
    "    >>> encrypt('CRYPTOGRAPHYANDDATASECURITY', 'MOUSEMOUSEMOUSEMOUSEMOUSEMO')\n",
    "    'OFSHXAULSTTMUFHPONSWQQOJMFM'\n",
    "    \"\"\"\n",
    "    encrypted_text = [\n",
    "        chr((ord(initial_str[i]) + ord(key_str[i])) % 26 + ord('A'))\n",
    "        for i in range(len(initial_str))\n",
    "    ]\n",
    "    return \"\".join(encrypted_text)\n",
    "\n",
    "\n",
    "def decrypt(encrypted_str, key_str):\n",
    "    \"\"\"\n",
    "    Decrypt the encrypted text and returns the original text\n",
    "\n",
    "    >>> decrypt('OFSHXAULSTTMUFHPONSWQQOJMFM', 'MOUSEMOUSEMOUSEMOUSEMOUSEMO')\n",
    "    'CRYPTOGRAPHYANDDATASECURITY'\n",
    "    \"\"\"\n",
    "    decrypted_text = [\n",
    "        chr((ord(encrypted_str[i]) - ord(key_str[i]) + 26) % 26 + ord('A'))\n",
    "        for i in range(len(encrypted_str))\n",
    "    ]\n",
    "    return \"\".join(decrypted_text)"
   ]
  },
  {
   "cell_type": "markdown",
   "metadata": {},
   "source": [
    "## Kasiski_test"
   ]
  },
  {
   "cell_type": "code",
   "execution_count": 91,
   "metadata": {},
   "outputs": [],
   "source": [
    "def search_l_gramms(cipher_text, key_len):\n",
    "    \"\"\"\n",
    "    Search all repeated key_len gramms and their spacing \n",
    "    \n",
    "    >>> search_l_gramms(\"bla bla asd bla asd xx yy zz\", 3)\n",
    "    {'bla': array([4, 8]), 'asd': array([8])}\n",
    "    \"\"\"\n",
    "    gramms = {}\n",
    "    for i in range(len(cipher_text) - key_len):\n",
    "        sub_str = cipher_text[i: i+key_len]\n",
    "\n",
    "        if sub_str.isalpha() and sub_str not in gramms:\n",
    "            matches = [\n",
    "                m.start()\n",
    "                for m in re.finditer(f'(?={sub_str})', cipher_text)\n",
    "            ]\n",
    "            if matches:\n",
    "                gramms[sub_str] = np.diff(matches)\n",
    "        \n",
    "    return gramms"
   ]
  },
  {
   "cell_type": "code",
   "execution_count": 92,
   "metadata": {},
   "outputs": [],
   "source": [
    "def get_key_len(gramms: dict):\n",
    "    \"\"\"\n",
    "    Return gcd of repeated strings distances \n",
    "    if strings count bigger than 3\n",
    "    >>> get_key_len({'a': [4, 8, 16], 'b': [2, 4], 'c': [8, 16, 48]})\n",
    "    4\n",
    "    \"\"\"\n",
    "    return reduce(\n",
    "        gcd,\n",
    "        [\n",
    "            reduce(gcd, len_diff_list)\n",
    "            for len_diff_list in gramms.values()\n",
    "            if len(len_diff_list) > 2\n",
    "        ]\n",
    "    )"
   ]
  },
  {
   "cell_type": "code",
   "execution_count": 93,
   "metadata": {
    "scrolled": true
   },
   "outputs": [
    {
     "data": {
      "text/plain": [
       "TestResults(failed=0, attempted=8)"
      ]
     },
     "execution_count": 93,
     "metadata": {},
     "output_type": "execute_result"
    }
   ],
   "source": [
    "doctest.testmod()"
   ]
  },
  {
   "cell_type": "code",
   "execution_count": 94,
   "metadata": {},
   "outputs": [],
   "source": [
    "def get_most_frequently_encountered_letters(text: str, key_len: int) -> list:\n",
    "    \"\"\"\n",
    "    Return the most common letters string in substrings separated by key length\n",
    "    \n",
    "    >>> get_most_frequently_encountered_letters('blablabbb', 3)\n",
    "    'bla'\n",
    "    \n",
    "    >>> get_most_frequently_encountered_letters('blablabbb', 2)\n",
    "    'bb'\n",
    "    \"\"\"\n",
    "    count_res = [\n",
    "        collections.Counter(text[i::key_len]).most_common(1)\n",
    "        for i in range(key_len)\n",
    "    ]\n",
    "    # count_res = [[('b', 4)], [('l', 3)], [('a', 5)]]\n",
    "    return [_[0][0] for _ in count_res]"
   ]
  },
  {
   "cell_type": "code",
   "execution_count": 95,
   "metadata": {},
   "outputs": [],
   "source": [
    "def build_key(letter_list):\n",
    "    \"\"\"\n",
    "    #TODO\n",
    "    \"\"\"\n",
    "    return \"\".join(\n",
    "        [ \n",
    "            chr(\n",
    "                (ord('A') + ord(letter.upper()) - ord('E') + 26) % 26\n",
    "            ) \n",
    "            for letter in letter_list\n",
    "        ]\n",
    "    )"
   ]
  }
 ],
 "metadata": {
  "kernelspec": {
   "display_name": "Python 3",
   "language": "python",
   "name": "python3"
  },
  "language_info": {
   "codemirror_mode": {
    "name": "ipython",
    "version": 3
   },
   "file_extension": ".py",
   "mimetype": "text/x-python",
   "name": "python",
   "nbconvert_exporter": "python",
   "pygments_lexer": "ipython3",
   "version": "3.8.2"
  }
 },
 "nbformat": 4,
 "nbformat_minor": 4
}
